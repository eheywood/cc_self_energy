{
 "cells": [
  {
   "cell_type": "code",
   "execution_count": 73,
   "id": "3e05ebc0-964d-4b14-a9dc-80fcc0b97528",
   "metadata": {},
   "outputs": [
    {
     "name": "stdout",
     "output_type": "stream",
     "text": [
      "converged SCF energy = -1.09108365450833\n",
      "E(CCSD) = -1.136171675463324  E_corr = -0.04508802095499804\n",
      "E(CCSD) = -1.136171675078332  E_corr = -0.0457166106717859\n",
      "E(CCSD) = -1.136171555724961  E_corr = -0.04569116974162639\n",
      "E(CCSD) = -1.136171657947945  E_corr = -0.04569139327446291\n",
      "E(CCSD) = -1.13617168257757  E_corr = -0.04569146490871473\n",
      "E(CCSD) = -1.136171681247839  E_corr = -0.04569146472842286\n",
      "E(CCSD) = -1.13617168422992  E_corr = -0.04569146465231588\n",
      "E(CCSD) = -1.136171685777563  E_corr = -0.04569146318370622\n",
      "E(CCSD) = -1.136171686724058  E_corr = -0.0456914624589354\n",
      "E(CCSD) = -1.136171684947967  E_corr = -0.04569145130255949\n",
      "E(CCSD) = -1.136171687891508  E_corr = -0.04569145556808186\n",
      "E(CCSD) = -1.136171689861596  E_corr = -0.04569146126014119\n",
      "E(CCSD) = -1.136171689297032  E_corr = -0.04569146117272486\n",
      "E(CCSD) = -1.136171689089693  E_corr = -0.04569146113791447\n",
      "E(CCSD) = -1.136171688990617  E_corr = -0.04569146115223236\n",
      "E(CCSD) = -1.136171689152756  E_corr = -0.04569146191176564\n",
      "converged SCF energy = -1.09108365450833\n"
     ]
    }
   ],
   "source": [
    "import numpy as np\n",
    "from pyscf import gto, scf, cc\n",
    "from scipy.linalg import block_diag\n",
    "from BSE_Helper import spinor_one_and_two_e_int\n",
    "\n",
    "np.set_printoptions(precision=6, suppress=True, linewidth=100000)\n",
    "eV_to_Hartree = 0.0367493\n",
    "\n",
    "def get_selfenergy_spatial(t2,oovv, goovv):\n",
    "    selfener_occ_1 = np.einsum('ikab, jkab -> ij', oovv, t2, optimize=\"optimal\")\n",
    "    selfener_occ_2 = -np.einsum('ikab, jkba -> ij', oovv, t2, optimize=\"optimal\")\n",
    "    selfener_occ_3 = np.einsum('ikab, jkab -> ij', goovv, t2, optimize=\"optimal\")\n",
    "    selfener_occ_4 = np.einsum('ikba, jkba -> ij', goovv, t2, optimize=\"optimal\")\n",
    "\n",
    "    selfener_occ = 0.5*(selfener_occ_1 + selfener_occ_2 + selfener_occ_3 + selfener_occ_4)\n",
    "    \n",
    "    selfener_vir_1 = np.einsum('ijbc, ijac -> ab', oovv, t2, optimize=\"optimal\")\n",
    "    selfener_vir_2 = - np.einsum('ijbc, ijca -> ab', oovv, t2, optimize=\"optimal\")\n",
    "    selfener_vir_3 = np.einsum('ijbc, ijac -> ab', goovv, t2, optimize=\"optimal\")\n",
    "    selfener_vir_4 = np.einsum('ijcb, ijca -> ab', goovv, t2, optimize=\"optimal\")\n",
    "\n",
    "    selfener_vir = -0.5*(selfener_vir_1 + selfener_vir_2 + selfener_vir_3 + selfener_vir_4)\n",
    "    return selfener_occ, selfener_vir\n",
    "\n",
    "\n",
    "def build_fock_matrices_spatial(mol)-> tuple[np.ndarray,np.ndarray]:\n",
    "\n",
    "    mf = scf.HF(mol)     \n",
    "    mf.kernel()          \n",
    "    F_ao = mf.get_fock()    \n",
    "    C   = mf.mo_coeff        \n",
    "    F_mo = C.T @ F_ao @ C   \n",
    "    fock_occ = F_mo[:int(n_occ),:int(n_occ)]\n",
    "    fock_vir = F_mo[int(n_occ):,int(n_occ):]\n",
    "\n",
    "    return fock_occ, fock_vir\n",
    "\n",
    "def build_gfock_spatial(t2, oovv, goovv, selfener_occ, selfener_vir, fock_occ, fock_vir) -> tuple[np.ndarray,np.ndarray]:\n",
    "    occ_selfeng, vir_selfeng = get_selfenergy_spatial(t2,oovv, goovv)\n",
    "    fock_occ, fock_vir = build_fock_matrices_spatial(mol) \n",
    "    \n",
    "    F_ij = occ_selfeng + fock_occ\n",
    "    F_ab = vir_selfeng + fock_vir \n",
    "\n",
    "    return F_ij, F_ab\n",
    "\n",
    "def build_bse(F_ij, F_ab, n_occ, n_vir, goovv, ovvo, t2) -> tuple[np.ndarray,np.ndarray,np.ndarray,np.ndarray,np.ndarray]:\n",
    "\n",
    "    F_abij = np.einsum('ab, ij -> iajb', F_ab, np.identity(n_occ),optimize='optimal')\n",
    "    F_ijab = np.einsum('ij, ab -> iajb', F_ij, np.identity(n_vir),optimize='optimal')\n",
    "\n",
    "    nspincase = 2\n",
    "    H_bse = np.zeros((n_occ,n_vir,n_occ,n_vir,nspincase))\n",
    "    \n",
    "    for i in range(2):\n",
    "        H_bse[:,:,:,:,i] = F_abij - F_ijab + np.einsum(\"iabj->iajb\", ovvo,optimize='optimal')\n",
    "\n",
    "        for ispina in range(2):\n",
    "            for ispini in range (2):\n",
    "                if ispina == ispini:\n",
    "                    # ispincase = 1  or 2\n",
    "                    term1 = np.einsum(\"ikbc, ijab -> iajb\", oovv,t2,optimize=\"optimal\")\n",
    "                    term2 = np.einsum(\"ikbc, ijba -> iajb\", oovv,t2,optimize=\"optimal\")\n",
    "                    term3 = - np.einsum(\"ikbc, jkac -> iajb\", goovv,t2,optimize=\"optimal\")\n",
    "                    \n",
    "                    H_bse[:,:,:,:,i] += term1 + term2 + term3\n",
    "    \n",
    "                else:\n",
    "                    # ispincase = 3 or 4\n",
    "                    H_bse[:,:,:,:,i] += - np.einsum(\"ikbc, jkac -> iajb\", oovv,t2,optimize=\"optimal\") \n",
    "    return H_bse\n",
    "\n",
    "if __name__ == \"__main__\":\n",
    "\n",
    "    # Define Molecule to calculate amplitudes and mo for\n",
    "    mol = gto.M(atom=\"H 0.00 0.00 0.00; H 0.00 0.00 2.00\",\n",
    "                basis='cc-pVTZ',\n",
    "                spin=0,\n",
    "                symmetry=False,\n",
    "                unit=\"Bohr\")\n",
    "\n",
    "    \n",
    "    # get molecular orbitals and t2 amplitudes\n",
    "    myhf = mol.HF.run() \n",
    "    mycc = cc.BCCD(myhf,conv_tol_normu=1e-8).run()\n",
    "    mo = mycc.mo_coeff\n",
    "    t2 = mycc.t2\n",
    "\n",
    "    # spatial orbital numbers\n",
    "    n_occ = t2.shape[0]\n",
    "    n_vir = t2.shape[2]\n",
    "\n",
    "    eri_ao = mol.intor('int2e') # two e integral\n",
    "    eri_ao = np.einsum(\"pqrs->prqs\", eri_ao, optimize=\"optimal\")    # Convert to Physicist's notation\n",
    "    anti_eri_ao = eri_ao - np.einsum(\"prqs->prsq\", eri_ao, optimize='optimal')\n",
    "\n",
    "    core_spatialorbs = mo[:, 0].reshape(-1,1)\n",
    "    vir_spatialorbs = mo[:, 1:]\n",
    "\n",
    "    # Build the required anti-symmetrised orbitals\n",
    "    oovv = np.einsum(\"pi,qj,pqrs,ra,sb->ijab\", core_spatialorbs, core_spatialorbs, anti_eri_ao, vir_spatialorbs, vir_spatialorbs, optimize=\"optimal\")\n",
    "    ovvo = np.einsum(\"pi,qa,pqrs,rb,sj->iabj\", core_spatialorbs, vir_spatialorbs, anti_eri_ao, vir_spatialorbs, core_spatialorbs,optimize=\"optimal\") \n",
    "    goovv = np.einsum(\"pi,qj,pqrs,ra,sb->ijab\", core_spatialorbs, core_spatialorbs, eri_ao, vir_spatialorbs, vir_spatialorbs, optimize=\"optimal\")\n",
    "\n",
    "    # build self energy\n",
    "    selfener_occ, selfener_vir = get_selfenergy_spatial(t2,oovv, goovv) # n_occ x n_occ, n_vir x n_vir\n",
    "\n",
    "    # build fock matrix\n",
    "    fock_occ, fock_vir = build_fock_matrices_spatial(mol) # n_occ x n_occ, n_vir x n_vir\n",
    "\n",
    "    # build gfock\n",
    "    F_ij = selfener_occ + fock_occ\n",
    "    F_ab = selfener_vir + fock_vir \n",
    "\n",
    "    # (n_occ,n_vir,n_occ,n_vir,nspincase)\n",
    "    hbse = build_bse(F_ij, F_ab, n_occ, n_vir, goovv, ovvo, t2)\n",
    "    \n",
    "    #H_bse = H_bse.reshape((n_occ*n_vir,n_occ*n_vir))\n",
    "    #e, v = np.linalg.eig(hbse)\n",
    "\n",
    "\n",
    "    "
   ]
  },
  {
   "cell_type": "code",
   "execution_count": 74,
   "id": "957bef64-82ec-44ed-aaa8-3ee60b3c72b4",
   "metadata": {},
   "outputs": [
    {
     "data": {
      "text/plain": [
       "array([0.18234 , 0.041871, 0.165764, 0.050817, 0.050817, 0.019442, 0.00466 , 0.00466 , 0.012608, 0.016236, 0.021149, 0.008438, 0.008438, 0.002057, 0.002057, 0.011007, 0.000841, 0.000841, 0.003283, 0.003283, 0.002764, 0.002764, 0.001442, 0.00091 , 0.00091 , 0.000833, 0.001435])"
      ]
     },
     "execution_count": 74,
     "metadata": {},
     "output_type": "execute_result"
    }
   ],
   "source": [
    "np.diag(selfener_vir)/eV_to_Hartree"
   ]
  },
  {
   "cell_type": "code",
   "execution_count": 75,
   "id": "cb050c49-66e4-444d-8666-1bce2606fcf8",
   "metadata": {},
   "outputs": [
    {
     "data": {
      "text/plain": [
       "array([[-0.621664]])"
      ]
     },
     "execution_count": 75,
     "metadata": {},
     "output_type": "execute_result"
    }
   ],
   "source": [
    "selfener_occ/eV_to_Hartree"
   ]
  },
  {
   "cell_type": "code",
   "execution_count": 76,
   "id": "bcba8b43-fb64-45ab-8c2a-f9e3bc01c445",
   "metadata": {},
   "outputs": [
    {
     "data": {
      "text/plain": [
       "(1, 27, 1, 27, 2)"
      ]
     },
     "execution_count": 76,
     "metadata": {},
     "output_type": "execute_result"
    }
   ],
   "source": [
    "hbse.shape"
   ]
  },
  {
   "cell_type": "code",
   "execution_count": null,
   "id": "068f83c9-70c1-4b5e-ae6d-3fc5fc3db1e0",
   "metadata": {},
   "outputs": [],
   "source": []
  },
  {
   "cell_type": "code",
   "execution_count": null,
   "id": "12a62f04-5458-45c7-aab8-19074daefc5c",
   "metadata": {},
   "outputs": [],
   "source": []
  }
 ],
 "metadata": {
  "kernelspec": {
   "display_name": "Python 3 (ipykernel)",
   "language": "python",
   "name": "python3"
  },
  "language_info": {
   "codemirror_mode": {
    "name": "ipython",
    "version": 3
   },
   "file_extension": ".py",
   "mimetype": "text/x-python",
   "name": "python",
   "nbconvert_exporter": "python",
   "pygments_lexer": "ipython3",
   "version": "3.13.2"
  }
 },
 "nbformat": 4,
 "nbformat_minor": 5
}
